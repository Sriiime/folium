{
  "metadata": {
    "kernelspec": {
      "name": "python",
      "display_name": "Python (Pyodide)",
      "language": "python"
    },
    "language_info": {
      "codemirror_mode": {
        "name": "python",
        "version": 3
      },
      "file_extension": ".py",
      "mimetype": "text/x-python",
      "name": "python",
      "nbconvert_exporter": "python",
      "pygments_lexer": "ipython3",
      "version": "3.8"
    }
  },
  "nbformat_minor": 4,
  "nbformat": 4,
  "cells": [
    {
      "cell_type": "markdown",
      "source": "<p style=\"text-align:center\">\n    <a href=\"https://skills.network/?utm_medium=Exinfluencer&utm_source=Exinfluencer&utm_content=000026UJ&utm_term=10006555&utm_id=NA-SkillsNetwork-Channel-SkillsNetworkCoursesIBMDS0321ENSkillsNetwork26802033-2022-01-01\" target=\"_blank\">\n    <img src=\"https://cf-courses-data.s3.us.cloud-object-storage.appdomain.cloud/assets/logos/SN_web_lightmode.png\" width=\"200\" alt=\"Skills Network Logo\"  />\n    </a>\n</p>\n",
      "metadata": {}
    },
    {
      "cell_type": "markdown",
      "source": "# **Launch Sites Locations Analysis with Folium**\n",
      "metadata": {}
    },
    {
      "cell_type": "markdown",
      "source": "Estimated time needed: **40** minutes\n",
      "metadata": {}
    },
    {
      "cell_type": "markdown",
      "source": "The launch success rate may depend on many factors such as payload mass, orbit type, and so on. It may also depend on the location and proximities of a launch site, i.e., the initial position of rocket trajectories. Finding an optimal location for building a launch site certainly involves many factors and hopefully we could discover some of the factors by analyzing the existing launch site locations.\n",
      "metadata": {}
    },
    {
      "cell_type": "markdown",
      "source": "In the previous exploratory data analysis labs, you have visualized the SpaceX launch dataset using `matplotlib` and `seaborn` and discovered some preliminary correlations between the launch site and success rates. In this lab, you will be performing more interactive visual analytics using `Folium`.\n",
      "metadata": {}
    },
    {
      "cell_type": "markdown",
      "source": "## Objectives\n",
      "metadata": {}
    },
    {
      "cell_type": "markdown",
      "source": "This lab contains the following tasks:\n\n*   **TASK 1:** Mark all launch sites on a map\n*   **TASK 2:** Mark the success/failed launches for each site on the map\n*   **TASK 3:** Calculate the distances between a launch site to its proximities\n\nAfter completed the above tasks, you should be able to find some geographical patterns about launch sites.\n",
      "metadata": {}
    },
    {
      "cell_type": "markdown",
      "source": "Let's first import required Python packages for this lab:\n",
      "metadata": {}
    },
    {
      "cell_type": "code",
      "source": "import piplite\nawait piplite.install(['folium'])\nawait piplite.install(['pandas'])",
      "metadata": {
        "trusted": true
      },
      "outputs": [],
      "execution_count": 28
    },
    {
      "cell_type": "code",
      "source": "import folium\nimport pandas as pd",
      "metadata": {
        "trusted": true
      },
      "outputs": [],
      "execution_count": 29
    },
    {
      "cell_type": "code",
      "source": "# Import folium MarkerCluster plugin\nfrom folium.plugins import MarkerCluster\n# Import folium MousePosition plugin\nfrom folium.plugins import MousePosition\n# Import folium DivIcon plugin\nfrom folium.features import DivIcon",
      "metadata": {
        "trusted": true
      },
      "outputs": [],
      "execution_count": 3
    },
    {
      "cell_type": "markdown",
      "source": "If you need to refresh your memory about folium, you may download and refer to this previous folium lab:\n",
      "metadata": {}
    },
    {
      "cell_type": "markdown",
      "source": "[Generating Maps with Python](https://cf-courses-data.s3.us.cloud-object-storage.appdomain.cloud/IBM-DS0321EN-SkillsNetwork/labs/module\\_3/DV0101EN-3-5-1-Generating-Maps-in-Python-py-v2.0.ipynb)\n",
      "metadata": {}
    },
    {
      "cell_type": "code",
      "source": "## Task 1: Mark all launch sites on a map",
      "metadata": {
        "trusted": true
      },
      "outputs": [],
      "execution_count": 3
    },
    {
      "cell_type": "markdown",
      "source": "First, let's try to add each site's location on a map using site's latitude and longitude coordinates\n",
      "metadata": {}
    },
    {
      "cell_type": "markdown",
      "source": "The following dataset with the name `spacex_launch_geo.csv` is an augmented dataset with latitude and longitude added for each site.\n",
      "metadata": {}
    },
    {
      "cell_type": "code",
      "source": "# Download and read the `spacex_launch_geo.csv`\nfrom js import fetch\nimport io\n\nURL = 'https://cf-courses-data.s3.us.cloud-object-storage.appdomain.cloud/IBM-DS0321EN-SkillsNetwork/datasets/spacex_launch_geo.csv'\nresp = await fetch(URL)\nspacex_csv_file = io.BytesIO((await resp.arrayBuffer()).to_py())\nspacex_df=pd.read_csv(spacex_csv_file)",
      "metadata": {
        "trusted": true
      },
      "outputs": [],
      "execution_count": 30
    },
    {
      "cell_type": "markdown",
      "source": "Now, you can take a look at what are the coordinates for each site.\n",
      "metadata": {}
    },
    {
      "cell_type": "code",
      "source": "# Select relevant sub-columns: `Launch Site`, `Lat(Latitude)`, `Long(Longitude)`, `class`\nspacex_df = spacex_df[['Launch Site', 'Lat', 'Long', 'class']]\nlaunch_sites_df = spacex_df.groupby(['Launch Site'], as_index=False).first()\nlaunch_sites_df = launch_sites_df[['Launch Site', 'Lat', 'Long']]\nlaunch_sites_df",
      "metadata": {
        "trusted": true
      },
      "outputs": [
        {
          "execution_count": 30,
          "output_type": "execute_result",
          "data": {
            "text/plain": "    Launch Site        Lat        Long\n0   CCAFS LC-40  28.562302  -80.577356\n1  CCAFS SLC-40  28.563197  -80.576820\n2    KSC LC-39A  28.573255  -80.646895\n3   VAFB SLC-4E  34.632834 -120.610745",
            "text/html": "<div>\n<style scoped>\n    .dataframe tbody tr th:only-of-type {\n        vertical-align: middle;\n    }\n\n    .dataframe tbody tr th {\n        vertical-align: top;\n    }\n\n    .dataframe thead th {\n        text-align: right;\n    }\n</style>\n<table border=\"1\" class=\"dataframe\">\n  <thead>\n    <tr style=\"text-align: right;\">\n      <th></th>\n      <th>Launch Site</th>\n      <th>Lat</th>\n      <th>Long</th>\n    </tr>\n  </thead>\n  <tbody>\n    <tr>\n      <th>0</th>\n      <td>CCAFS LC-40</td>\n      <td>28.562302</td>\n      <td>-80.577356</td>\n    </tr>\n    <tr>\n      <th>1</th>\n      <td>CCAFS SLC-40</td>\n      <td>28.563197</td>\n      <td>-80.576820</td>\n    </tr>\n    <tr>\n      <th>2</th>\n      <td>KSC LC-39A</td>\n      <td>28.573255</td>\n      <td>-80.646895</td>\n    </tr>\n    <tr>\n      <th>3</th>\n      <td>VAFB SLC-4E</td>\n      <td>34.632834</td>\n      <td>-120.610745</td>\n    </tr>\n  </tbody>\n</table>\n</div>"
          },
          "metadata": {}
        }
      ],
      "execution_count": 31
    },
    {
      "cell_type": "markdown",
      "source": "Above coordinates are just plain numbers that can not give you any intuitive insights about where are those launch sites. If you are very good at geography, you can interpret those numbers directly in your mind. If not, that's fine too. Let's visualize those locations by pinning them on a map.\n",
      "metadata": {}
    },
    {
      "cell_type": "markdown",
      "source": "We first need to create a folium `Map` object, with an initial center location to be NASA Johnson Space Center at Houston, Texas.\n",
      "metadata": {}
    },
    {
      "cell_type": "code",
      "source": "# Start location is NASA Johnson Space Center\nnasa_coordinate = [29.559684888503615, -95.0830971930759]\nsite_map = folium.Map(location=nasa_coordinate, zoom_start=10)",
      "metadata": {
        "trusted": true
      },
      "outputs": [],
      "execution_count": 32
    },
    {
      "cell_type": "markdown",
      "source": "We could use `folium.Circle` to add a highlighted circle area with a text label on a specific coordinate. For example,\n",
      "metadata": {}
    },
    {
      "cell_type": "code",
      "source": "# Create a blue circle at NASA Johnson Space Center's coordinate with a popup label showing its name\ncircle = folium.Circle(nasa_coordinate, radius=1000, color='#d35400', fill=True).add_child(folium.Popup('NASA Johnson Space Center'))\n# Create a blue circle at NASA Johnson Space Center's coordinate with a icon showing its name\nmarker = folium.map.Marker(\n    nasa_coordinate,\n    # Create an icon as a text label\n    icon=DivIcon(\n        icon_size=(20,20),\n        icon_anchor=(0,0),\n        html='<div style=\"font-size: 12; color:#d35400;\"><b>%s</b></div>' % 'NASA JSC',\n        )\n    )\nsite_map.add_child(circle)\nsite_map.add_child(marker)",
      "metadata": {
        "trusted": true
      },
      "outputs": [
        {
          "execution_count": 32,
          "output_type": "execute_result",
          "data": {
            "text/plain": "<folium.folium.Map at 0x5bfa2f0>",
            "text/html": "<div style=\"width:100%;\"><div style=\"position:relative;width:100%;height:0;padding-bottom:60%;\"><span style=\"color:#565656\">Make this Notebook Trusted to load map: File -> Trust Notebook</span><iframe srcdoc=\"&lt;!DOCTYPE html&gt;\n&lt;html&gt;\n&lt;head&gt;\n    \n    &lt;meta http-equiv=&quot;content-type&quot; content=&quot;text/html; charset=UTF-8&quot; /&gt;\n    \n        &lt;script&gt;\n            L_NO_TOUCH = false;\n            L_DISABLE_3D = false;\n        &lt;/script&gt;\n    \n    &lt;style&gt;html, body {width: 100%;height: 100%;margin: 0;padding: 0;}&lt;/style&gt;\n    &lt;style&gt;#map {position:absolute;top:0;bottom:0;right:0;left:0;}&lt;/style&gt;\n    &lt;script src=&quot;https://cdn.jsdelivr.net/npm/leaflet@1.9.3/dist/leaflet.js&quot;&gt;&lt;/script&gt;\n    &lt;script src=&quot;https://code.jquery.com/jquery-3.7.1.min.js&quot;&gt;&lt;/script&gt;\n    &lt;script src=&quot;https://cdn.jsdelivr.net/npm/bootstrap@5.2.2/dist/js/bootstrap.bundle.min.js&quot;&gt;&lt;/script&gt;\n    &lt;script src=&quot;https://cdnjs.cloudflare.com/ajax/libs/Leaflet.awesome-markers/2.0.2/leaflet.awesome-markers.js&quot;&gt;&lt;/script&gt;\n    &lt;link rel=&quot;stylesheet&quot; href=&quot;https://cdn.jsdelivr.net/npm/leaflet@1.9.3/dist/leaflet.css&quot;/&gt;\n    &lt;link rel=&quot;stylesheet&quot; href=&quot;https://cdn.jsdelivr.net/npm/bootstrap@5.2.2/dist/css/bootstrap.min.css&quot;/&gt;\n    &lt;link rel=&quot;stylesheet&quot; href=&quot;https://netdna.bootstrapcdn.com/bootstrap/3.0.0/css/bootstrap-glyphicons.css&quot;/&gt;\n    &lt;link rel=&quot;stylesheet&quot; href=&quot;https://cdn.jsdelivr.net/npm/@fortawesome/fontawesome-free@6.2.0/css/all.min.css&quot;/&gt;\n    &lt;link rel=&quot;stylesheet&quot; href=&quot;https://cdnjs.cloudflare.com/ajax/libs/Leaflet.awesome-markers/2.0.2/leaflet.awesome-markers.css&quot;/&gt;\n    &lt;link rel=&quot;stylesheet&quot; href=&quot;https://cdn.jsdelivr.net/gh/python-visualization/folium/folium/templates/leaflet.awesome.rotate.min.css&quot;/&gt;\n    \n            &lt;meta name=&quot;viewport&quot; content=&quot;width=device-width,\n                initial-scale=1.0, maximum-scale=1.0, user-scalable=no&quot; /&gt;\n            &lt;style&gt;\n                #map_709f03d4e799825eaa50697a0dd5a728 {\n                    position: relative;\n                    width: 100.0%;\n                    height: 100.0%;\n                    left: 0.0%;\n                    top: 0.0%;\n                }\n                .leaflet-container { font-size: 1rem; }\n            &lt;/style&gt;\n        \n&lt;/head&gt;\n&lt;body&gt;\n    \n    \n            &lt;div class=&quot;folium-map&quot; id=&quot;map_709f03d4e799825eaa50697a0dd5a728&quot; &gt;&lt;/div&gt;\n        \n&lt;/body&gt;\n&lt;script&gt;\n    \n    \n            var map_709f03d4e799825eaa50697a0dd5a728 = L.map(\n                &quot;map_709f03d4e799825eaa50697a0dd5a728&quot;,\n                {\n                    center: [29.559684888503615, -95.0830971930759],\n                    crs: L.CRS.EPSG3857,\n                    zoom: 10,\n                    zoomControl: true,\n                    preferCanvas: false,\n                }\n            );\n\n            \n\n        \n    \n            var tile_layer_d6837bb22594d6c5b2614f19549429d0 = L.tileLayer(\n                &quot;https://tile.openstreetmap.org/{z}/{x}/{y}.png&quot;,\n                {&quot;attribution&quot;: &quot;\\u0026copy; \\u003ca href=\\&quot;https://www.openstreetmap.org/copyright\\&quot;\\u003eOpenStreetMap\\u003c/a\\u003e contributors&quot;, &quot;detectRetina&quot;: false, &quot;maxNativeZoom&quot;: 19, &quot;maxZoom&quot;: 19, &quot;minZoom&quot;: 0, &quot;noWrap&quot;: false, &quot;opacity&quot;: 1, &quot;subdomains&quot;: &quot;abc&quot;, &quot;tms&quot;: false}\n            );\n        \n    \n            tile_layer_d6837bb22594d6c5b2614f19549429d0.addTo(map_709f03d4e799825eaa50697a0dd5a728);\n        \n    \n            var circle_461c5032e1b77bd85eec9073ce4b5f93 = L.circle(\n                [29.559684888503615, -95.0830971930759],\n                {&quot;bubblingMouseEvents&quot;: true, &quot;color&quot;: &quot;#d35400&quot;, &quot;dashArray&quot;: null, &quot;dashOffset&quot;: null, &quot;fill&quot;: true, &quot;fillColor&quot;: &quot;#d35400&quot;, &quot;fillOpacity&quot;: 0.2, &quot;fillRule&quot;: &quot;evenodd&quot;, &quot;lineCap&quot;: &quot;round&quot;, &quot;lineJoin&quot;: &quot;round&quot;, &quot;opacity&quot;: 1.0, &quot;radius&quot;: 1000, &quot;stroke&quot;: true, &quot;weight&quot;: 3}\n            ).addTo(map_709f03d4e799825eaa50697a0dd5a728);\n        \n    \n        var popup_9ad2d948ae41e76fcb005f5bea21233a = L.popup({&quot;maxWidth&quot;: &quot;100%&quot;});\n\n        \n            \n                var html_27c3e7c838895db0d56bed1cc82e2551 = $(`&lt;div id=&quot;html_27c3e7c838895db0d56bed1cc82e2551&quot; style=&quot;width: 100.0%; height: 100.0%;&quot;&gt;NASA Johnson Space Center&lt;/div&gt;`)[0];\n                popup_9ad2d948ae41e76fcb005f5bea21233a.setContent(html_27c3e7c838895db0d56bed1cc82e2551);\n            \n        \n\n        circle_461c5032e1b77bd85eec9073ce4b5f93.bindPopup(popup_9ad2d948ae41e76fcb005f5bea21233a)\n        ;\n\n        \n    \n    \n            var marker_53674fbc9b88d17d0ad140d9dcd383a1 = L.marker(\n                [29.559684888503615, -95.0830971930759],\n                {}\n            ).addTo(map_709f03d4e799825eaa50697a0dd5a728);\n        \n    \n            var div_icon_7e572fa5914a19f403a6a287643b1ce6 = L.divIcon({&quot;className&quot;: &quot;empty&quot;, &quot;html&quot;: &quot;\\u003cdiv style=\\&quot;font-size: 12; color:#d35400;\\&quot;\\u003e\\u003cb\\u003eNASA JSC\\u003c/b\\u003e\\u003c/div\\u003e&quot;, &quot;iconAnchor&quot;: [0, 0], &quot;iconSize&quot;: [20, 20]});\n            marker_53674fbc9b88d17d0ad140d9dcd383a1.setIcon(div_icon_7e572fa5914a19f403a6a287643b1ce6);\n        \n&lt;/script&gt;\n&lt;/html&gt;\" style=\"position:absolute;width:100%;height:100%;left:0;top:0;border:none !important;\" allowfullscreen webkitallowfullscreen mozallowfullscreen></iframe></div></div>"
          },
          "metadata": {}
        }
      ],
      "execution_count": 33
    },
    {
      "cell_type": "markdown",
      "source": "and you should find a small yellow circle near the city of Houston and you can zoom-in to see a larger circle.\n",
      "metadata": {}
    },
    {
      "cell_type": "markdown",
      "source": "Now, let's add a circle for each launch site in data frame `launch_sites`\n",
      "metadata": {}
    },
    {
      "cell_type": "markdown",
      "source": "*TODO:*  Create and add `folium.Circle` and `folium.Marker` for each launch site on the site map\n",
      "metadata": {}
    },
    {
      "cell_type": "markdown",
      "source": "An example of folium.Circle:\n",
      "metadata": {}
    },
    {
      "cell_type": "markdown",
      "source": "`folium.Circle(coordinate, radius=1000, color='#000000', fill=True).add_child(folium.Popup(...))`\n",
      "metadata": {}
    },
    {
      "cell_type": "markdown",
      "source": "An example of folium.Marker:\n",
      "metadata": {}
    },
    {
      "cell_type": "markdown",
      "source": "`folium.map.Marker(coordinate, icon=DivIcon(icon_size=(20,20),icon_anchor=(0,0), html='<div style=\"font-size: 12; color:#d35400;\"><b>%s</b></div>' % 'label', ))`\n",
      "metadata": {}
    },
    {
      "cell_type": "code",
      "source": "# Initial the map\nsite_map = folium.Map(location=nasa_coordinate, zoom_start=5)\n# For each launch site, add a Circle object based on its coordinate (Lat, Long) values. In addition, add Launch site name as a popup label\nfolium.Circle(nasa_coordinate, radius=1000, color='#d35400', fill=True).add_child(folium.Popup(launch_sites_df))\nfolium.map.Marker(nasa_coordinate, icon=DivIcon(icon_size=(20,20),icon_anchor=(0,0), html='<div style=\"font-size: 12; color:#d35400;\"><b>%s</b></div>' % 'label', ))\nsite_map",
      "metadata": {
        "trusted": true
      },
      "outputs": [
        {
          "execution_count": 33,
          "output_type": "execute_result",
          "data": {
            "text/plain": "<folium.folium.Map at 0x5f2cc88>",
            "text/html": "<div style=\"width:100%;\"><div style=\"position:relative;width:100%;height:0;padding-bottom:60%;\"><span style=\"color:#565656\">Make this Notebook Trusted to load map: File -> Trust Notebook</span><iframe srcdoc=\"&lt;!DOCTYPE html&gt;\n&lt;html&gt;\n&lt;head&gt;\n    \n    &lt;meta http-equiv=&quot;content-type&quot; content=&quot;text/html; charset=UTF-8&quot; /&gt;\n    \n        &lt;script&gt;\n            L_NO_TOUCH = false;\n            L_DISABLE_3D = false;\n        &lt;/script&gt;\n    \n    &lt;style&gt;html, body {width: 100%;height: 100%;margin: 0;padding: 0;}&lt;/style&gt;\n    &lt;style&gt;#map {position:absolute;top:0;bottom:0;right:0;left:0;}&lt;/style&gt;\n    &lt;script src=&quot;https://cdn.jsdelivr.net/npm/leaflet@1.9.3/dist/leaflet.js&quot;&gt;&lt;/script&gt;\n    &lt;script src=&quot;https://code.jquery.com/jquery-3.7.1.min.js&quot;&gt;&lt;/script&gt;\n    &lt;script src=&quot;https://cdn.jsdelivr.net/npm/bootstrap@5.2.2/dist/js/bootstrap.bundle.min.js&quot;&gt;&lt;/script&gt;\n    &lt;script src=&quot;https://cdnjs.cloudflare.com/ajax/libs/Leaflet.awesome-markers/2.0.2/leaflet.awesome-markers.js&quot;&gt;&lt;/script&gt;\n    &lt;link rel=&quot;stylesheet&quot; href=&quot;https://cdn.jsdelivr.net/npm/leaflet@1.9.3/dist/leaflet.css&quot;/&gt;\n    &lt;link rel=&quot;stylesheet&quot; href=&quot;https://cdn.jsdelivr.net/npm/bootstrap@5.2.2/dist/css/bootstrap.min.css&quot;/&gt;\n    &lt;link rel=&quot;stylesheet&quot; href=&quot;https://netdna.bootstrapcdn.com/bootstrap/3.0.0/css/bootstrap-glyphicons.css&quot;/&gt;\n    &lt;link rel=&quot;stylesheet&quot; href=&quot;https://cdn.jsdelivr.net/npm/@fortawesome/fontawesome-free@6.2.0/css/all.min.css&quot;/&gt;\n    &lt;link rel=&quot;stylesheet&quot; href=&quot;https://cdnjs.cloudflare.com/ajax/libs/Leaflet.awesome-markers/2.0.2/leaflet.awesome-markers.css&quot;/&gt;\n    &lt;link rel=&quot;stylesheet&quot; href=&quot;https://cdn.jsdelivr.net/gh/python-visualization/folium/folium/templates/leaflet.awesome.rotate.min.css&quot;/&gt;\n    \n            &lt;meta name=&quot;viewport&quot; content=&quot;width=device-width,\n                initial-scale=1.0, maximum-scale=1.0, user-scalable=no&quot; /&gt;\n            &lt;style&gt;\n                #map_11d0108af9437d58b3e07e376f1c5dbe {\n                    position: relative;\n                    width: 100.0%;\n                    height: 100.0%;\n                    left: 0.0%;\n                    top: 0.0%;\n                }\n                .leaflet-container { font-size: 1rem; }\n            &lt;/style&gt;\n        \n&lt;/head&gt;\n&lt;body&gt;\n    \n    \n            &lt;div class=&quot;folium-map&quot; id=&quot;map_11d0108af9437d58b3e07e376f1c5dbe&quot; &gt;&lt;/div&gt;\n        \n&lt;/body&gt;\n&lt;script&gt;\n    \n    \n            var map_11d0108af9437d58b3e07e376f1c5dbe = L.map(\n                &quot;map_11d0108af9437d58b3e07e376f1c5dbe&quot;,\n                {\n                    center: [29.559684888503615, -95.0830971930759],\n                    crs: L.CRS.EPSG3857,\n                    zoom: 5,\n                    zoomControl: true,\n                    preferCanvas: false,\n                }\n            );\n\n            \n\n        \n    \n            var tile_layer_963ea2220420e32bf4f2a9bdab8fe9a4 = L.tileLayer(\n                &quot;https://tile.openstreetmap.org/{z}/{x}/{y}.png&quot;,\n                {&quot;attribution&quot;: &quot;\\u0026copy; \\u003ca href=\\&quot;https://www.openstreetmap.org/copyright\\&quot;\\u003eOpenStreetMap\\u003c/a\\u003e contributors&quot;, &quot;detectRetina&quot;: false, &quot;maxNativeZoom&quot;: 19, &quot;maxZoom&quot;: 19, &quot;minZoom&quot;: 0, &quot;noWrap&quot;: false, &quot;opacity&quot;: 1, &quot;subdomains&quot;: &quot;abc&quot;, &quot;tms&quot;: false}\n            );\n        \n    \n            tile_layer_963ea2220420e32bf4f2a9bdab8fe9a4.addTo(map_11d0108af9437d58b3e07e376f1c5dbe);\n        \n&lt;/script&gt;\n&lt;/html&gt;\" style=\"position:absolute;width:100%;height:100%;left:0;top:0;border:none !important;\" allowfullscreen webkitallowfullscreen mozallowfullscreen></iframe></div></div>"
          },
          "metadata": {}
        }
      ],
      "execution_count": 34
    },
    {
      "cell_type": "markdown",
      "source": "The generated map with marked launch sites should look similar to the following:\n",
      "metadata": {}
    },
    {
      "cell_type": "markdown",
      "source": "<center>\n    <img src=\"https://cf-courses-data.s3.us.cloud-object-storage.appdomain.cloud/IBM-DS0321EN-SkillsNetwork/labs/module_3/images/launch_site_markers.png\">\n</center>\n",
      "metadata": {}
    },
    {
      "cell_type": "markdown",
      "source": "Now, you can explore the map by zoom-in/out the marked areas\n, and try to answer the following questions:\n\n*   Are all launch sites in proximity to the Equator line?\n*   Are all launch sites in very close proximity to the coast?\n\nAlso please try to explain your findings.\n",
      "metadata": {}
    },
    {
      "cell_type": "code",
      "source": "# Task 2: Mark the success/failed launches for each site on the map\n",
      "metadata": {},
      "outputs": [],
      "execution_count": null
    },
    {
      "cell_type": "markdown",
      "source": "Next, let's try to enhance the map by adding the launch outcomes for each site, and see which sites have high success rates.\nRecall that data frame spacex_df has detailed launch records, and the `class` column indicates if this launch was successful or not\n",
      "metadata": {}
    },
    {
      "cell_type": "code",
      "source": "spacex_df.tail(10)",
      "metadata": {
        "trusted": true
      },
      "outputs": [
        {
          "execution_count": 34,
          "output_type": "execute_result",
          "data": {
            "text/plain": "     Launch Site        Lat       Long  class\n46    KSC LC-39A  28.573255 -80.646895      1\n47    KSC LC-39A  28.573255 -80.646895      1\n48    KSC LC-39A  28.573255 -80.646895      1\n49  CCAFS SLC-40  28.563197 -80.576820      1\n50  CCAFS SLC-40  28.563197 -80.576820      1\n51  CCAFS SLC-40  28.563197 -80.576820      0\n52  CCAFS SLC-40  28.563197 -80.576820      0\n53  CCAFS SLC-40  28.563197 -80.576820      0\n54  CCAFS SLC-40  28.563197 -80.576820      1\n55  CCAFS SLC-40  28.563197 -80.576820      0",
            "text/html": "<div>\n<style scoped>\n    .dataframe tbody tr th:only-of-type {\n        vertical-align: middle;\n    }\n\n    .dataframe tbody tr th {\n        vertical-align: top;\n    }\n\n    .dataframe thead th {\n        text-align: right;\n    }\n</style>\n<table border=\"1\" class=\"dataframe\">\n  <thead>\n    <tr style=\"text-align: right;\">\n      <th></th>\n      <th>Launch Site</th>\n      <th>Lat</th>\n      <th>Long</th>\n      <th>class</th>\n    </tr>\n  </thead>\n  <tbody>\n    <tr>\n      <th>46</th>\n      <td>KSC LC-39A</td>\n      <td>28.573255</td>\n      <td>-80.646895</td>\n      <td>1</td>\n    </tr>\n    <tr>\n      <th>47</th>\n      <td>KSC LC-39A</td>\n      <td>28.573255</td>\n      <td>-80.646895</td>\n      <td>1</td>\n    </tr>\n    <tr>\n      <th>48</th>\n      <td>KSC LC-39A</td>\n      <td>28.573255</td>\n      <td>-80.646895</td>\n      <td>1</td>\n    </tr>\n    <tr>\n      <th>49</th>\n      <td>CCAFS SLC-40</td>\n      <td>28.563197</td>\n      <td>-80.576820</td>\n      <td>1</td>\n    </tr>\n    <tr>\n      <th>50</th>\n      <td>CCAFS SLC-40</td>\n      <td>28.563197</td>\n      <td>-80.576820</td>\n      <td>1</td>\n    </tr>\n    <tr>\n      <th>51</th>\n      <td>CCAFS SLC-40</td>\n      <td>28.563197</td>\n      <td>-80.576820</td>\n      <td>0</td>\n    </tr>\n    <tr>\n      <th>52</th>\n      <td>CCAFS SLC-40</td>\n      <td>28.563197</td>\n      <td>-80.576820</td>\n      <td>0</td>\n    </tr>\n    <tr>\n      <th>53</th>\n      <td>CCAFS SLC-40</td>\n      <td>28.563197</td>\n      <td>-80.576820</td>\n      <td>0</td>\n    </tr>\n    <tr>\n      <th>54</th>\n      <td>CCAFS SLC-40</td>\n      <td>28.563197</td>\n      <td>-80.576820</td>\n      <td>1</td>\n    </tr>\n    <tr>\n      <th>55</th>\n      <td>CCAFS SLC-40</td>\n      <td>28.563197</td>\n      <td>-80.576820</td>\n      <td>0</td>\n    </tr>\n  </tbody>\n</table>\n</div>"
          },
          "metadata": {}
        }
      ],
      "execution_count": 35
    },
    {
      "cell_type": "markdown",
      "source": "Next, let's create markers for all launch records.\nIf a launch was successful `(class=1)`, then we use a green marker and if a launch was failed, we use a red marker `(class=0)`\n",
      "metadata": {}
    },
    {
      "cell_type": "markdown",
      "source": "Note that a launch only happens in one of the four launch sites, which means many launch records will have the exact same coordinate. Marker clusters can be a good way to simplify a map containing many markers having the same coordinate.\n",
      "metadata": {}
    },
    {
      "cell_type": "markdown",
      "source": "Let's first create a `MarkerCluster` object\n",
      "metadata": {}
    },
    {
      "cell_type": "code",
      "source": "marker_cluster = MarkerCluster()\n",
      "metadata": {
        "trusted": true
      },
      "outputs": [],
      "execution_count": 36
    },
    {
      "cell_type": "markdown",
      "source": "*TODO:* Create a new column in `launch_sites` dataframe called `marker_color` to store the marker colors based on the `class` value\n",
      "metadata": {}
    },
    {
      "cell_type": "code",
      "source": "\n# Apply a function to check the value of `class` column\n# If class=1, marker_color value will be green\n# If class=0, marker_color value will be red\ndef marker_color(class_value):\n    if class_value =='1':\n        return 'green'\n    else:\n        return 'red'\n        ",
      "metadata": {
        "trusted": true
      },
      "outputs": [],
      "execution_count": 37
    },
    {
      "cell_type": "markdown",
      "source": "*TODO:* For each launch result in `spacex_df` data frame, add a `folium.Marker` to `marker_cluster`\n",
      "metadata": {}
    },
    {
      "cell_type": "code",
      "source": "# Add marker_cluster to current site_map\nsite_map.add_child(marker_cluster)\nfor index, record in spacex_df.iterrows():\n    # TODO: Create and add a Marker cluster to the site map\n     marker = folium.Marker(icon=folium.Icon(color='white', icon_color=row['marker_color']))\n    marker_cluster.add_child(marker)\n\nsite_map",
      "metadata": {
        "trusted": true
      },
      "outputs": [],
      "execution_count": null
    },
    {
      "cell_type": "markdown",
      "source": "Your updated map may look like the following screenshots:\n",
      "metadata": {}
    },
    {
      "cell_type": "markdown",
      "source": "<center>\n    <img src=\"https://cf-courses-data.s3.us.cloud-object-storage.appdomain.cloud/IBM-DS0321EN-SkillsNetwork/labs/module_3/images/launch_site_marker_cluster.png\">\n</center>\n",
      "metadata": {}
    },
    {
      "cell_type": "markdown",
      "source": "<center>\n    <img src=\"https://cf-courses-data.s3.us.cloud-object-storage.appdomain.cloud/IBM-DS0321EN-SkillsNetwork/labs/module_3/images/launch_site_marker_cluster_zoomed.png\">\n</center>\n",
      "metadata": {}
    },
    {
      "cell_type": "markdown",
      "source": "From the color-labeled markers in marker clusters, you should be able to easily identify which launch sites have relatively high success rates.\n",
      "metadata": {}
    },
    {
      "cell_type": "code",
      "source": "# TASK 3: Calculate the distances between a launch site to its proximities\nmarker_clusterS = marker_cluster().add_to(site_map)\nfor index, record in spacex_df.iterrows():\n    # TODO: Create and add a Marker cluster to the site map\n     marker = folium.Marker(icon=folium.Icon(color='white', icon_color=row['marker_color']))\n    marker_cluster.add_child(marker)\nsite_map",
      "metadata": {
        "trusted": true
      },
      "outputs": [],
      "execution_count": null
    },
    {
      "cell_type": "markdown",
      "source": "Next, we need to explore and analyze the proximities of launch sites.\n",
      "metadata": {}
    },
    {
      "cell_type": "markdown",
      "source": "Let's first add a `MousePosition` on the map to get coordinate for a mouse over a point on the map. As such, while you are exploring the map, you can easily find the coordinates of any points of interests (such as railway)\n",
      "metadata": {}
    },
    {
      "cell_type": "code",
      "source": "# Add Mouse Position to get the coordinate (Lat, Long) for a mouse over on the map\nformatter = \"function(num) {return L.Util.formatNum(num, 5);};\"\nmouse_position = MousePosition(\n    position='topright',\n    separator=' Long: ',\n    empty_string='NaN',\n    lng_first=False,\n    num_digits=20,\n    prefix='Lat:',\n    lat_formatter=formatter,\n    lng_formatter=formatter,\n)\n\nsite_map.add_child(mouse_position)\nsite_map",
      "metadata": {
        "trusted": true
      },
      "outputs": [
        {
          "execution_count": 37,
          "output_type": "execute_result",
          "data": {
            "text/plain": "<folium.folium.Map at 0x5f2cc88>",
            "text/html": "<div style=\"width:100%;\"><div style=\"position:relative;width:100%;height:0;padding-bottom:60%;\"><span style=\"color:#565656\">Make this Notebook Trusted to load map: File -> Trust Notebook</span><iframe srcdoc=\"&lt;!DOCTYPE html&gt;\n&lt;html&gt;\n&lt;head&gt;\n    \n    &lt;meta http-equiv=&quot;content-type&quot; content=&quot;text/html; charset=UTF-8&quot; /&gt;\n    \n        &lt;script&gt;\n            L_NO_TOUCH = false;\n            L_DISABLE_3D = false;\n        &lt;/script&gt;\n    \n    &lt;style&gt;html, body {width: 100%;height: 100%;margin: 0;padding: 0;}&lt;/style&gt;\n    &lt;style&gt;#map {position:absolute;top:0;bottom:0;right:0;left:0;}&lt;/style&gt;\n    &lt;script src=&quot;https://cdn.jsdelivr.net/npm/leaflet@1.9.3/dist/leaflet.js&quot;&gt;&lt;/script&gt;\n    &lt;script src=&quot;https://code.jquery.com/jquery-3.7.1.min.js&quot;&gt;&lt;/script&gt;\n    &lt;script src=&quot;https://cdn.jsdelivr.net/npm/bootstrap@5.2.2/dist/js/bootstrap.bundle.min.js&quot;&gt;&lt;/script&gt;\n    &lt;script src=&quot;https://cdnjs.cloudflare.com/ajax/libs/Leaflet.awesome-markers/2.0.2/leaflet.awesome-markers.js&quot;&gt;&lt;/script&gt;\n    &lt;link rel=&quot;stylesheet&quot; href=&quot;https://cdn.jsdelivr.net/npm/leaflet@1.9.3/dist/leaflet.css&quot;/&gt;\n    &lt;link rel=&quot;stylesheet&quot; href=&quot;https://cdn.jsdelivr.net/npm/bootstrap@5.2.2/dist/css/bootstrap.min.css&quot;/&gt;\n    &lt;link rel=&quot;stylesheet&quot; href=&quot;https://netdna.bootstrapcdn.com/bootstrap/3.0.0/css/bootstrap-glyphicons.css&quot;/&gt;\n    &lt;link rel=&quot;stylesheet&quot; href=&quot;https://cdn.jsdelivr.net/npm/@fortawesome/fontawesome-free@6.2.0/css/all.min.css&quot;/&gt;\n    &lt;link rel=&quot;stylesheet&quot; href=&quot;https://cdnjs.cloudflare.com/ajax/libs/Leaflet.awesome-markers/2.0.2/leaflet.awesome-markers.css&quot;/&gt;\n    &lt;link rel=&quot;stylesheet&quot; href=&quot;https://cdn.jsdelivr.net/gh/python-visualization/folium/folium/templates/leaflet.awesome.rotate.min.css&quot;/&gt;\n    \n            &lt;meta name=&quot;viewport&quot; content=&quot;width=device-width,\n                initial-scale=1.0, maximum-scale=1.0, user-scalable=no&quot; /&gt;\n            &lt;style&gt;\n                #map_11d0108af9437d58b3e07e376f1c5dbe {\n                    position: relative;\n                    width: 100.0%;\n                    height: 100.0%;\n                    left: 0.0%;\n                    top: 0.0%;\n                }\n                .leaflet-container { font-size: 1rem; }\n            &lt;/style&gt;\n        \n    &lt;script src=&quot;https://cdn.jsdelivr.net/gh/ardhi/Leaflet.MousePosition/src/L.Control.MousePosition.min.js&quot;&gt;&lt;/script&gt;\n    &lt;link rel=&quot;stylesheet&quot; href=&quot;https://cdn.jsdelivr.net/gh/ardhi/Leaflet.MousePosition/src/L.Control.MousePosition.min.css&quot;/&gt;\n&lt;/head&gt;\n&lt;body&gt;\n    \n    \n            &lt;div class=&quot;folium-map&quot; id=&quot;map_11d0108af9437d58b3e07e376f1c5dbe&quot; &gt;&lt;/div&gt;\n        \n&lt;/body&gt;\n&lt;script&gt;\n    \n    \n            var map_11d0108af9437d58b3e07e376f1c5dbe = L.map(\n                &quot;map_11d0108af9437d58b3e07e376f1c5dbe&quot;,\n                {\n                    center: [29.559684888503615, -95.0830971930759],\n                    crs: L.CRS.EPSG3857,\n                    zoom: 5,\n                    zoomControl: true,\n                    preferCanvas: false,\n                }\n            );\n\n            \n\n        \n    \n            var tile_layer_963ea2220420e32bf4f2a9bdab8fe9a4 = L.tileLayer(\n                &quot;https://tile.openstreetmap.org/{z}/{x}/{y}.png&quot;,\n                {&quot;attribution&quot;: &quot;\\u0026copy; \\u003ca href=\\&quot;https://www.openstreetmap.org/copyright\\&quot;\\u003eOpenStreetMap\\u003c/a\\u003e contributors&quot;, &quot;detectRetina&quot;: false, &quot;maxNativeZoom&quot;: 19, &quot;maxZoom&quot;: 19, &quot;minZoom&quot;: 0, &quot;noWrap&quot;: false, &quot;opacity&quot;: 1, &quot;subdomains&quot;: &quot;abc&quot;, &quot;tms&quot;: false}\n            );\n        \n    \n            tile_layer_963ea2220420e32bf4f2a9bdab8fe9a4.addTo(map_11d0108af9437d58b3e07e376f1c5dbe);\n        \n    \n            tile_layer_963ea2220420e32bf4f2a9bdab8fe9a4.addTo(map_11d0108af9437d58b3e07e376f1c5dbe);\n        \n    \n            var mouse_position_c6e2cb5be859374cf828176a39eb5a69 = new L.Control.MousePosition(\n                {&quot;emptyString&quot;: &quot;NaN&quot;, &quot;lngFirst&quot;: false, &quot;numDigits&quot;: 20, &quot;position&quot;: &quot;topright&quot;, &quot;prefix&quot;: &quot;Lat:&quot;, &quot;separator&quot;: &quot; Long: &quot;}\n            );\n            mouse_position_c6e2cb5be859374cf828176a39eb5a69.options[&quot;latFormatter&quot;] =\n                function(num) {return L.Util.formatNum(num, 5);};;\n            mouse_position_c6e2cb5be859374cf828176a39eb5a69.options[&quot;lngFormatter&quot;] =\n                function(num) {return L.Util.formatNum(num, 5);};;\n            map_11d0108af9437d58b3e07e376f1c5dbe.addControl(mouse_position_c6e2cb5be859374cf828176a39eb5a69);\n        \n&lt;/script&gt;\n&lt;/html&gt;\" style=\"position:absolute;width:100%;height:100%;left:0;top:0;border:none !important;\" allowfullscreen webkitallowfullscreen mozallowfullscreen></iframe></div></div>"
          },
          "metadata": {}
        }
      ],
      "execution_count": 40
    },
    {
      "cell_type": "markdown",
      "source": "Now zoom in to a launch site and explore its proximity to see if you can easily find any railway, highway, coastline, etc. Move your mouse to these points and mark down their coordinates (shown on the top-left) in order to the distance to the launch site.\n",
      "metadata": {}
    },
    {
      "cell_type": "markdown",
      "source": "Now zoom in to a launch site and explore its proximity to see if you can easily find any railway, highway, coastline, etc. Move your mouse to these points and mark down their coordinates (shown on the top-left) in order to the distance to the launch site.\n",
      "metadata": {}
    },
    {
      "cell_type": "code",
      "source": "from math import sin, cos, sqrt, atan2, radians\n\ndef calculate_distance(lat1, lon1, lat2, lon2):\n    # approximate radius of earth in km\n    R = 6373.0\n\n    lat1 = radians(lat1)\n    lon1 = radians(lon1)\n    lat2 = radians(lat2)\n    lon2 = radians(lon2)\n\n    dlon = lon2 - lon1\n    dlat = lat2 - lat1\n\n    a = sin(dlat / 2)**2 + cos(lat1) * cos(lat2) * sin(dlon / 2)**2\n    c = 2 * atan2(sqrt(a), sqrt(1 - a))\n\n    distance = R * c\n    return distance",
      "metadata": {
        "trusted": true
      },
      "outputs": [],
      "execution_count": 41
    },
    {
      "cell_type": "markdown",
      "source": "*TODO:* Mark down a point on the closest coastline using MousePosition and calculate the distance between the coastline point and the launch site.\n",
      "metadata": {}
    },
    {
      "cell_type": "code",
      "source": "# find coordinate of the closet coastline\nlaunch_site_lat = 28.56367  \nlaunch_site_lon = -80.57163\ncoastline_lat = 28.5478\ncoastline_lon = -80.33436\ndistance_coastline = calculate_distance(launch_site_lat, launch_site_lon, coastline_lat, coastline_lon)\nprint(distance_coastline)",
      "metadata": {
        "trusted": true
      },
      "outputs": [
        {
          "name": "stdout",
          "text": "23.248152052565608\n",
          "output_type": "stream"
        }
      ],
      "execution_count": 42
    },
    {
      "cell_type": "code",
      "source": "# Create and add a folium.Marker on your selected closest coastline point on the map\n# Display the distance between coastline point and launch site using the icon property \n# for example\ndistance_marker = folium.Marker(\nlaunch_site_lat = 28.56367,  \nlaunch_site_lon = -80.57163,\ncoastline_lat = 28.5478,\ncoastline_lon = -80.33436,\n    icon=DivIcon(\n        icon_size=(20,20),\n        icon_anchor=(0,0),\n       html='<div style=\"font-size: 12; color:#d35400;\"><b>%s</b></div>' % \"{:10.2f} KM\".format(distance_coastline),\n        )\n   )",
      "metadata": {
        "trusted": true
      },
      "outputs": [],
      "execution_count": 43
    },
    {
      "cell_type": "markdown",
      "source": "*TODO:* Draw a `PolyLine` between a launch site to the selected coastline point\n",
      "metadata": {}
    },
    {
      "cell_type": "code",
      "source": "# Create a `folium.PolyLine` object using the coastline coordinates and launch site coordinate\ncoastline_point = {\n    'coastline_lat': 28.5478,\n    'coastline_lon':-80.33436,\n}\nlaunchsite_point = {\n     'launch_site_lat': 28.56367,  \n     'launch_site_lon':-80.57163,\n}\nfolium.Marker(\n    location = [coastline_point['coastline_lat'],coastline_point['coastline_lon']],\n    popup = 'coastline_point'\n    ).add_to(site_map)\nfolium.Marker(\n    location = [launchsite_point['launch_site_lat'],launchsite_point['launch_site_lon']],\n    popup = 'launchsite_point'\n    ).add_to(site_map)\nfolium.PolyLine(\n    locations = [(launchsite_point['launch_site_lat'],launchsite_point['launch_site_lon']),(coastline_point['coastline_lat'],coastline_point['coastline_lon'])],\n    color='blue'\n    ).add_to(site_map)\nsite_map",
      "metadata": {
        "trusted": true
      },
      "outputs": [
        {
          "execution_count": 41,
          "output_type": "execute_result",
          "data": {
            "text/plain": "<folium.folium.Map at 0x5f2cc88>",
            "text/html": "<div style=\"width:100%;\"><div style=\"position:relative;width:100%;height:0;padding-bottom:60%;\"><span style=\"color:#565656\">Make this Notebook Trusted to load map: File -> Trust Notebook</span><iframe srcdoc=\"&lt;!DOCTYPE html&gt;\n&lt;html&gt;\n&lt;head&gt;\n    \n    &lt;meta http-equiv=&quot;content-type&quot; content=&quot;text/html; charset=UTF-8&quot; /&gt;\n    \n        &lt;script&gt;\n            L_NO_TOUCH = false;\n            L_DISABLE_3D = false;\n        &lt;/script&gt;\n    \n    &lt;style&gt;html, body {width: 100%;height: 100%;margin: 0;padding: 0;}&lt;/style&gt;\n    &lt;style&gt;#map {position:absolute;top:0;bottom:0;right:0;left:0;}&lt;/style&gt;\n    &lt;script src=&quot;https://cdn.jsdelivr.net/npm/leaflet@1.9.3/dist/leaflet.js&quot;&gt;&lt;/script&gt;\n    &lt;script src=&quot;https://code.jquery.com/jquery-3.7.1.min.js&quot;&gt;&lt;/script&gt;\n    &lt;script src=&quot;https://cdn.jsdelivr.net/npm/bootstrap@5.2.2/dist/js/bootstrap.bundle.min.js&quot;&gt;&lt;/script&gt;\n    &lt;script src=&quot;https://cdnjs.cloudflare.com/ajax/libs/Leaflet.awesome-markers/2.0.2/leaflet.awesome-markers.js&quot;&gt;&lt;/script&gt;\n    &lt;link rel=&quot;stylesheet&quot; href=&quot;https://cdn.jsdelivr.net/npm/leaflet@1.9.3/dist/leaflet.css&quot;/&gt;\n    &lt;link rel=&quot;stylesheet&quot; href=&quot;https://cdn.jsdelivr.net/npm/bootstrap@5.2.2/dist/css/bootstrap.min.css&quot;/&gt;\n    &lt;link rel=&quot;stylesheet&quot; href=&quot;https://netdna.bootstrapcdn.com/bootstrap/3.0.0/css/bootstrap-glyphicons.css&quot;/&gt;\n    &lt;link rel=&quot;stylesheet&quot; href=&quot;https://cdn.jsdelivr.net/npm/@fortawesome/fontawesome-free@6.2.0/css/all.min.css&quot;/&gt;\n    &lt;link rel=&quot;stylesheet&quot; href=&quot;https://cdnjs.cloudflare.com/ajax/libs/Leaflet.awesome-markers/2.0.2/leaflet.awesome-markers.css&quot;/&gt;\n    &lt;link rel=&quot;stylesheet&quot; href=&quot;https://cdn.jsdelivr.net/gh/python-visualization/folium/folium/templates/leaflet.awesome.rotate.min.css&quot;/&gt;\n    \n            &lt;meta name=&quot;viewport&quot; content=&quot;width=device-width,\n                initial-scale=1.0, maximum-scale=1.0, user-scalable=no&quot; /&gt;\n            &lt;style&gt;\n                #map_11d0108af9437d58b3e07e376f1c5dbe {\n                    position: relative;\n                    width: 100.0%;\n                    height: 100.0%;\n                    left: 0.0%;\n                    top: 0.0%;\n                }\n                .leaflet-container { font-size: 1rem; }\n            &lt;/style&gt;\n        \n    &lt;script src=&quot;https://cdn.jsdelivr.net/gh/ardhi/Leaflet.MousePosition/src/L.Control.MousePosition.min.js&quot;&gt;&lt;/script&gt;\n    &lt;link rel=&quot;stylesheet&quot; href=&quot;https://cdn.jsdelivr.net/gh/ardhi/Leaflet.MousePosition/src/L.Control.MousePosition.min.css&quot;/&gt;\n&lt;/head&gt;\n&lt;body&gt;\n    \n    \n            &lt;div class=&quot;folium-map&quot; id=&quot;map_11d0108af9437d58b3e07e376f1c5dbe&quot; &gt;&lt;/div&gt;\n        \n&lt;/body&gt;\n&lt;script&gt;\n    \n    \n            var map_11d0108af9437d58b3e07e376f1c5dbe = L.map(\n                &quot;map_11d0108af9437d58b3e07e376f1c5dbe&quot;,\n                {\n                    center: [29.559684888503615, -95.0830971930759],\n                    crs: L.CRS.EPSG3857,\n                    zoom: 5,\n                    zoomControl: true,\n                    preferCanvas: false,\n                }\n            );\n\n            \n\n        \n    \n            var tile_layer_963ea2220420e32bf4f2a9bdab8fe9a4 = L.tileLayer(\n                &quot;https://tile.openstreetmap.org/{z}/{x}/{y}.png&quot;,\n                {&quot;attribution&quot;: &quot;\\u0026copy; \\u003ca href=\\&quot;https://www.openstreetmap.org/copyright\\&quot;\\u003eOpenStreetMap\\u003c/a\\u003e contributors&quot;, &quot;detectRetina&quot;: false, &quot;maxNativeZoom&quot;: 19, &quot;maxZoom&quot;: 19, &quot;minZoom&quot;: 0, &quot;noWrap&quot;: false, &quot;opacity&quot;: 1, &quot;subdomains&quot;: &quot;abc&quot;, &quot;tms&quot;: false}\n            );\n        \n    \n            tile_layer_963ea2220420e32bf4f2a9bdab8fe9a4.addTo(map_11d0108af9437d58b3e07e376f1c5dbe);\n        \n    \n            tile_layer_963ea2220420e32bf4f2a9bdab8fe9a4.addTo(map_11d0108af9437d58b3e07e376f1c5dbe);\n        \n    \n            var mouse_position_c6e2cb5be859374cf828176a39eb5a69 = new L.Control.MousePosition(\n                {&quot;emptyString&quot;: &quot;NaN&quot;, &quot;lngFirst&quot;: false, &quot;numDigits&quot;: 20, &quot;position&quot;: &quot;topright&quot;, &quot;prefix&quot;: &quot;Lat:&quot;, &quot;separator&quot;: &quot; Long: &quot;}\n            );\n            mouse_position_c6e2cb5be859374cf828176a39eb5a69.options[&quot;latFormatter&quot;] =\n                function(num) {return L.Util.formatNum(num, 5);};;\n            mouse_position_c6e2cb5be859374cf828176a39eb5a69.options[&quot;lngFormatter&quot;] =\n                function(num) {return L.Util.formatNum(num, 5);};;\n            map_11d0108af9437d58b3e07e376f1c5dbe.addControl(mouse_position_c6e2cb5be859374cf828176a39eb5a69);\n        \n    \n            tile_layer_963ea2220420e32bf4f2a9bdab8fe9a4.addTo(map_11d0108af9437d58b3e07e376f1c5dbe);\n        \n    \n            var marker_e4ff2c0871ed1fb0bf30c5022313ba21 = L.marker(\n                [28.5478, -80.33436],\n                {}\n            ).addTo(map_11d0108af9437d58b3e07e376f1c5dbe);\n        \n    \n        var popup_9564fc44b418f34447b9b5e60ead5517 = L.popup({&quot;maxWidth&quot;: &quot;100%&quot;});\n\n        \n            \n                var html_8c8128e8291aa30c2ce6de668c3522d4 = $(`&lt;div id=&quot;html_8c8128e8291aa30c2ce6de668c3522d4&quot; style=&quot;width: 100.0%; height: 100.0%;&quot;&gt;coastline_point&lt;/div&gt;`)[0];\n                popup_9564fc44b418f34447b9b5e60ead5517.setContent(html_8c8128e8291aa30c2ce6de668c3522d4);\n            \n        \n\n        marker_e4ff2c0871ed1fb0bf30c5022313ba21.bindPopup(popup_9564fc44b418f34447b9b5e60ead5517)\n        ;\n\n        \n    \n    \n            var marker_7d36dd5228dcb0a61dbf12c93253f9ae = L.marker(\n                [28.56367, -80.57163],\n                {}\n            ).addTo(map_11d0108af9437d58b3e07e376f1c5dbe);\n        \n    \n        var popup_16a50cc54bf06325decb95b9b0bc99b0 = L.popup({&quot;maxWidth&quot;: &quot;100%&quot;});\n\n        \n            \n                var html_48998c970b6eabed241780e0480779c7 = $(`&lt;div id=&quot;html_48998c970b6eabed241780e0480779c7&quot; style=&quot;width: 100.0%; height: 100.0%;&quot;&gt;launchsite_point&lt;/div&gt;`)[0];\n                popup_16a50cc54bf06325decb95b9b0bc99b0.setContent(html_48998c970b6eabed241780e0480779c7);\n            \n        \n\n        marker_7d36dd5228dcb0a61dbf12c93253f9ae.bindPopup(popup_16a50cc54bf06325decb95b9b0bc99b0)\n        ;\n\n        \n    \n    \n            var poly_line_6f1e355e2275142d192370058eea05ea = L.polyline(\n                [[28.56367, -80.57163], [28.5478, -80.33436]],\n                {&quot;bubblingMouseEvents&quot;: true, &quot;color&quot;: &quot;blue&quot;, &quot;dashArray&quot;: null, &quot;dashOffset&quot;: null, &quot;fill&quot;: false, &quot;fillColor&quot;: &quot;blue&quot;, &quot;fillOpacity&quot;: 0.2, &quot;fillRule&quot;: &quot;evenodd&quot;, &quot;lineCap&quot;: &quot;round&quot;, &quot;lineJoin&quot;: &quot;round&quot;, &quot;noClip&quot;: false, &quot;opacity&quot;: 1.0, &quot;smoothFactor&quot;: 1.0, &quot;stroke&quot;: true, &quot;weight&quot;: 3}\n            ).addTo(map_11d0108af9437d58b3e07e376f1c5dbe);\n        \n&lt;/script&gt;\n&lt;/html&gt;\" style=\"position:absolute;width:100%;height:100%;left:0;top:0;border:none !important;\" allowfullscreen webkitallowfullscreen mozallowfullscreen></iframe></div></div>"
          },
          "metadata": {}
        }
      ],
      "execution_count": 44
    },
    {
      "cell_type": "markdown",
      "source": "Your updated map with distance line should look like the following screenshot:\n",
      "metadata": {}
    },
    {
      "cell_type": "markdown",
      "source": "<center>\n    <img src=\"https://cf-courses-data.s3.us.cloud-object-storage.appdomain.cloud/IBM-DS0321EN-SkillsNetwork/labs/module_3/images/launch_site_marker_distance.png\">\n</center>\n",
      "metadata": {}
    },
    {
      "cell_type": "markdown",
      "source": "*TODO:* Similarly, you can draw a line betwee a launch site to its closest city, railway, highway, etc. You need to use `MousePosition` to find the their coordinates on the map first\n",
      "metadata": {}
    },
    {
      "cell_type": "markdown",
      "source": "A railway map symbol may look like this:\n",
      "metadata": {}
    },
    {
      "cell_type": "markdown",
      "source": "<center>\n    <img src=\"https://cf-courses-data.s3.us.cloud-object-storage.appdomain.cloud/IBM-DS0321EN-SkillsNetwork/labs/module_3/images/railway.png\">\n</center>\n",
      "metadata": {}
    },
    {
      "cell_type": "markdown",
      "source": "A highway map symbol may look like this:\n",
      "metadata": {}
    },
    {
      "cell_type": "markdown",
      "source": "<center>\n    <img src=\"https://cf-courses-data.s3.us.cloud-object-storage.appdomain.cloud/IBM-DS0321EN-SkillsNetwork/labs/module_3/images/highway.png\">\n</center>\n",
      "metadata": {}
    },
    {
      "cell_type": "markdown",
      "source": "A city map symbol may look like this:\n",
      "metadata": {}
    },
    {
      "cell_type": "markdown",
      "source": "<center>\n    <img src=\"https://cf-courses-data.s3.us.cloud-object-storage.appdomain.cloud/IBM-DS0321EN-SkillsNetwork/labs/module_3/images/city.png\">\n</center>\n",
      "metadata": {}
    },
    {
      "cell_type": "code",
      "source": "# Create a marker with distance to a closest city, railway, highway, etc.\n# Draw a line between the marker to the launch site\n#Cloasest city from the Launch_Site\ncloasest_city_point = {\n    'cloasest_city_lat': 28.6258,\n    'cloasest_city_lon': -80.6704,\n}\nlaunchsite_point = {\n     'launch_site_lat': 28.56367,  \n     'launch_site_lon':-80.57163,\n}\nfolium.Marker(\n    location = [cloasest_city_point['cloasest_city_lat'],cloasest_city_point['cloasest_city_lon']],\n    popup = 'cloasest_city_point'\n    ).add_to(site_map)\nfolium.Marker(\n    location = [launchsite_point['launch_site_lat'],launchsite_point['launch_site_lon']],\n    popup = 'launchsite_point'\n    ).add_to(site_map)\nfolium.PolyLine(\n    locations = [(launchsite_point['launch_site_lat'],launchsite_point['launch_site_lon']),(cloasest_city_point['cloasest_city_lat'],cloasest_city_point['cloasest_city_lon'])],\n    color='blue'\n    ).add_to(site_map)\nsite_map",
      "metadata": {
        "trusted": true
      },
      "outputs": [
        {
          "execution_count": 42,
          "output_type": "execute_result",
          "data": {
            "text/plain": "<folium.folium.Map at 0x5f2cc88>",
            "text/html": "<div style=\"width:100%;\"><div style=\"position:relative;width:100%;height:0;padding-bottom:60%;\"><span style=\"color:#565656\">Make this Notebook Trusted to load map: File -> Trust Notebook</span><iframe srcdoc=\"&lt;!DOCTYPE html&gt;\n&lt;html&gt;\n&lt;head&gt;\n    \n    &lt;meta http-equiv=&quot;content-type&quot; content=&quot;text/html; charset=UTF-8&quot; /&gt;\n    \n        &lt;script&gt;\n            L_NO_TOUCH = false;\n            L_DISABLE_3D = false;\n        &lt;/script&gt;\n    \n    &lt;style&gt;html, body {width: 100%;height: 100%;margin: 0;padding: 0;}&lt;/style&gt;\n    &lt;style&gt;#map {position:absolute;top:0;bottom:0;right:0;left:0;}&lt;/style&gt;\n    &lt;script src=&quot;https://cdn.jsdelivr.net/npm/leaflet@1.9.3/dist/leaflet.js&quot;&gt;&lt;/script&gt;\n    &lt;script src=&quot;https://code.jquery.com/jquery-3.7.1.min.js&quot;&gt;&lt;/script&gt;\n    &lt;script src=&quot;https://cdn.jsdelivr.net/npm/bootstrap@5.2.2/dist/js/bootstrap.bundle.min.js&quot;&gt;&lt;/script&gt;\n    &lt;script src=&quot;https://cdnjs.cloudflare.com/ajax/libs/Leaflet.awesome-markers/2.0.2/leaflet.awesome-markers.js&quot;&gt;&lt;/script&gt;\n    &lt;link rel=&quot;stylesheet&quot; href=&quot;https://cdn.jsdelivr.net/npm/leaflet@1.9.3/dist/leaflet.css&quot;/&gt;\n    &lt;link rel=&quot;stylesheet&quot; href=&quot;https://cdn.jsdelivr.net/npm/bootstrap@5.2.2/dist/css/bootstrap.min.css&quot;/&gt;\n    &lt;link rel=&quot;stylesheet&quot; href=&quot;https://netdna.bootstrapcdn.com/bootstrap/3.0.0/css/bootstrap-glyphicons.css&quot;/&gt;\n    &lt;link rel=&quot;stylesheet&quot; href=&quot;https://cdn.jsdelivr.net/npm/@fortawesome/fontawesome-free@6.2.0/css/all.min.css&quot;/&gt;\n    &lt;link rel=&quot;stylesheet&quot; href=&quot;https://cdnjs.cloudflare.com/ajax/libs/Leaflet.awesome-markers/2.0.2/leaflet.awesome-markers.css&quot;/&gt;\n    &lt;link rel=&quot;stylesheet&quot; href=&quot;https://cdn.jsdelivr.net/gh/python-visualization/folium/folium/templates/leaflet.awesome.rotate.min.css&quot;/&gt;\n    \n            &lt;meta name=&quot;viewport&quot; content=&quot;width=device-width,\n                initial-scale=1.0, maximum-scale=1.0, user-scalable=no&quot; /&gt;\n            &lt;style&gt;\n                #map_11d0108af9437d58b3e07e376f1c5dbe {\n                    position: relative;\n                    width: 100.0%;\n                    height: 100.0%;\n                    left: 0.0%;\n                    top: 0.0%;\n                }\n                .leaflet-container { font-size: 1rem; }\n            &lt;/style&gt;\n        \n    &lt;script src=&quot;https://cdn.jsdelivr.net/gh/ardhi/Leaflet.MousePosition/src/L.Control.MousePosition.min.js&quot;&gt;&lt;/script&gt;\n    &lt;link rel=&quot;stylesheet&quot; href=&quot;https://cdn.jsdelivr.net/gh/ardhi/Leaflet.MousePosition/src/L.Control.MousePosition.min.css&quot;/&gt;\n&lt;/head&gt;\n&lt;body&gt;\n    \n    \n            &lt;div class=&quot;folium-map&quot; id=&quot;map_11d0108af9437d58b3e07e376f1c5dbe&quot; &gt;&lt;/div&gt;\n        \n&lt;/body&gt;\n&lt;script&gt;\n    \n    \n            var map_11d0108af9437d58b3e07e376f1c5dbe = L.map(\n                &quot;map_11d0108af9437d58b3e07e376f1c5dbe&quot;,\n                {\n                    center: [29.559684888503615, -95.0830971930759],\n                    crs: L.CRS.EPSG3857,\n                    zoom: 5,\n                    zoomControl: true,\n                    preferCanvas: false,\n                }\n            );\n\n            \n\n        \n    \n            var tile_layer_963ea2220420e32bf4f2a9bdab8fe9a4 = L.tileLayer(\n                &quot;https://tile.openstreetmap.org/{z}/{x}/{y}.png&quot;,\n                {&quot;attribution&quot;: &quot;\\u0026copy; \\u003ca href=\\&quot;https://www.openstreetmap.org/copyright\\&quot;\\u003eOpenStreetMap\\u003c/a\\u003e contributors&quot;, &quot;detectRetina&quot;: false, &quot;maxNativeZoom&quot;: 19, &quot;maxZoom&quot;: 19, &quot;minZoom&quot;: 0, &quot;noWrap&quot;: false, &quot;opacity&quot;: 1, &quot;subdomains&quot;: &quot;abc&quot;, &quot;tms&quot;: false}\n            );\n        \n    \n            tile_layer_963ea2220420e32bf4f2a9bdab8fe9a4.addTo(map_11d0108af9437d58b3e07e376f1c5dbe);\n        \n    \n            tile_layer_963ea2220420e32bf4f2a9bdab8fe9a4.addTo(map_11d0108af9437d58b3e07e376f1c5dbe);\n        \n    \n            var mouse_position_c6e2cb5be859374cf828176a39eb5a69 = new L.Control.MousePosition(\n                {&quot;emptyString&quot;: &quot;NaN&quot;, &quot;lngFirst&quot;: false, &quot;numDigits&quot;: 20, &quot;position&quot;: &quot;topright&quot;, &quot;prefix&quot;: &quot;Lat:&quot;, &quot;separator&quot;: &quot; Long: &quot;}\n            );\n            mouse_position_c6e2cb5be859374cf828176a39eb5a69.options[&quot;latFormatter&quot;] =\n                function(num) {return L.Util.formatNum(num, 5);};;\n            mouse_position_c6e2cb5be859374cf828176a39eb5a69.options[&quot;lngFormatter&quot;] =\n                function(num) {return L.Util.formatNum(num, 5);};;\n            map_11d0108af9437d58b3e07e376f1c5dbe.addControl(mouse_position_c6e2cb5be859374cf828176a39eb5a69);\n        \n    \n            tile_layer_963ea2220420e32bf4f2a9bdab8fe9a4.addTo(map_11d0108af9437d58b3e07e376f1c5dbe);\n        \n    \n            var marker_e4ff2c0871ed1fb0bf30c5022313ba21 = L.marker(\n                [28.5478, -80.33436],\n                {}\n            ).addTo(map_11d0108af9437d58b3e07e376f1c5dbe);\n        \n    \n        var popup_9564fc44b418f34447b9b5e60ead5517 = L.popup({&quot;maxWidth&quot;: &quot;100%&quot;});\n\n        \n            \n                var html_8c8128e8291aa30c2ce6de668c3522d4 = $(`&lt;div id=&quot;html_8c8128e8291aa30c2ce6de668c3522d4&quot; style=&quot;width: 100.0%; height: 100.0%;&quot;&gt;coastline_point&lt;/div&gt;`)[0];\n                popup_9564fc44b418f34447b9b5e60ead5517.setContent(html_8c8128e8291aa30c2ce6de668c3522d4);\n            \n        \n\n        marker_e4ff2c0871ed1fb0bf30c5022313ba21.bindPopup(popup_9564fc44b418f34447b9b5e60ead5517)\n        ;\n\n        \n    \n    \n            var marker_7d36dd5228dcb0a61dbf12c93253f9ae = L.marker(\n                [28.56367, -80.57163],\n                {}\n            ).addTo(map_11d0108af9437d58b3e07e376f1c5dbe);\n        \n    \n        var popup_16a50cc54bf06325decb95b9b0bc99b0 = L.popup({&quot;maxWidth&quot;: &quot;100%&quot;});\n\n        \n            \n                var html_48998c970b6eabed241780e0480779c7 = $(`&lt;div id=&quot;html_48998c970b6eabed241780e0480779c7&quot; style=&quot;width: 100.0%; height: 100.0%;&quot;&gt;launchsite_point&lt;/div&gt;`)[0];\n                popup_16a50cc54bf06325decb95b9b0bc99b0.setContent(html_48998c970b6eabed241780e0480779c7);\n            \n        \n\n        marker_7d36dd5228dcb0a61dbf12c93253f9ae.bindPopup(popup_16a50cc54bf06325decb95b9b0bc99b0)\n        ;\n\n        \n    \n    \n            var poly_line_6f1e355e2275142d192370058eea05ea = L.polyline(\n                [[28.56367, -80.57163], [28.5478, -80.33436]],\n                {&quot;bubblingMouseEvents&quot;: true, &quot;color&quot;: &quot;blue&quot;, &quot;dashArray&quot;: null, &quot;dashOffset&quot;: null, &quot;fill&quot;: false, &quot;fillColor&quot;: &quot;blue&quot;, &quot;fillOpacity&quot;: 0.2, &quot;fillRule&quot;: &quot;evenodd&quot;, &quot;lineCap&quot;: &quot;round&quot;, &quot;lineJoin&quot;: &quot;round&quot;, &quot;noClip&quot;: false, &quot;opacity&quot;: 1.0, &quot;smoothFactor&quot;: 1.0, &quot;stroke&quot;: true, &quot;weight&quot;: 3}\n            ).addTo(map_11d0108af9437d58b3e07e376f1c5dbe);\n        \n    \n            tile_layer_963ea2220420e32bf4f2a9bdab8fe9a4.addTo(map_11d0108af9437d58b3e07e376f1c5dbe);\n        \n    \n            var marker_6c06ca8b9622de51e04fb48ae71acbf0 = L.marker(\n                [28.6258, -80.6704],\n                {}\n            ).addTo(map_11d0108af9437d58b3e07e376f1c5dbe);\n        \n    \n        var popup_3b33c69c17c0ffbaecae599da05bea61 = L.popup({&quot;maxWidth&quot;: &quot;100%&quot;});\n\n        \n            \n                var html_8489033c4da3729ec2a47b2c5839d3de = $(`&lt;div id=&quot;html_8489033c4da3729ec2a47b2c5839d3de&quot; style=&quot;width: 100.0%; height: 100.0%;&quot;&gt;cloasest_city_point&lt;/div&gt;`)[0];\n                popup_3b33c69c17c0ffbaecae599da05bea61.setContent(html_8489033c4da3729ec2a47b2c5839d3de);\n            \n        \n\n        marker_6c06ca8b9622de51e04fb48ae71acbf0.bindPopup(popup_3b33c69c17c0ffbaecae599da05bea61)\n        ;\n\n        \n    \n    \n            var marker_f80e2413d54da21d2edc99aa7306ed20 = L.marker(\n                [28.56367, -80.57163],\n                {}\n            ).addTo(map_11d0108af9437d58b3e07e376f1c5dbe);\n        \n    \n        var popup_f3795347713aefcf96a074d720fd6d0d = L.popup({&quot;maxWidth&quot;: &quot;100%&quot;});\n\n        \n            \n                var html_e0496458c15f35462cf86f710e77eb60 = $(`&lt;div id=&quot;html_e0496458c15f35462cf86f710e77eb60&quot; style=&quot;width: 100.0%; height: 100.0%;&quot;&gt;launchsite_point&lt;/div&gt;`)[0];\n                popup_f3795347713aefcf96a074d720fd6d0d.setContent(html_e0496458c15f35462cf86f710e77eb60);\n            \n        \n\n        marker_f80e2413d54da21d2edc99aa7306ed20.bindPopup(popup_f3795347713aefcf96a074d720fd6d0d)\n        ;\n\n        \n    \n    \n            var poly_line_4a19f0a24cea4a47ae37c37661ceb02d = L.polyline(\n                [[28.56367, -80.57163], [28.6258, -80.6704]],\n                {&quot;bubblingMouseEvents&quot;: true, &quot;color&quot;: &quot;blue&quot;, &quot;dashArray&quot;: null, &quot;dashOffset&quot;: null, &quot;fill&quot;: false, &quot;fillColor&quot;: &quot;blue&quot;, &quot;fillOpacity&quot;: 0.2, &quot;fillRule&quot;: &quot;evenodd&quot;, &quot;lineCap&quot;: &quot;round&quot;, &quot;lineJoin&quot;: &quot;round&quot;, &quot;noClip&quot;: false, &quot;opacity&quot;: 1.0, &quot;smoothFactor&quot;: 1.0, &quot;stroke&quot;: true, &quot;weight&quot;: 3}\n            ).addTo(map_11d0108af9437d58b3e07e376f1c5dbe);\n        \n&lt;/script&gt;\n&lt;/html&gt;\" style=\"position:absolute;width:100%;height:100%;left:0;top:0;border:none !important;\" allowfullscreen webkitallowfullscreen mozallowfullscreen></iframe></div></div>"
          },
          "metadata": {}
        }
      ],
      "execution_count": 45
    },
    {
      "cell_type": "code",
      "source": "#Nearest Railway\ncloasest_railline_point = {\n    'cloasest_rail_lat': 28.57245,\n    'cloasest_rail_lon': -80.58539,\n}\nlaunchsite_point = {\n     'launch_site_lat': 28.56367,  \n     'launch_site_lon':-80.57163,\n}\nfolium.Marker(\n    location = [cloasest_railline_point['cloasest_rail_lat'],cloasest_railline_point['cloasest_rail_lon']],\n    popup = 'cloasest_railline_point'\n    ).add_to(site_map)\nfolium.Marker(\n    location = [launchsite_point['launch_site_lat'],launchsite_point['launch_site_lon']],\n    popup = 'launchsite_point'\n    ).add_to(site_map)\nfolium.PolyLine(\n    locations = [(launchsite_point['launch_site_lat'],launchsite_point['launch_site_lon']),(cloasest_railline_point['cloasest_rail_lat'],cloasest_railline_point['cloasest_rail_lon'])],\n    color='blue'\n    ).add_to(site_map)\nsite_map",
      "metadata": {
        "trusted": true
      },
      "outputs": [
        {
          "execution_count": 22,
          "output_type": "execute_result",
          "data": {
            "text/plain": "<folium.folium.Map at 0x5d64458>",
            "text/html": "<div style=\"width:100%;\"><div style=\"position:relative;width:100%;height:0;padding-bottom:60%;\"><span style=\"color:#565656\">Make this Notebook Trusted to load map: File -> Trust Notebook</span><iframe srcdoc=\"&lt;!DOCTYPE html&gt;\n&lt;html&gt;\n&lt;head&gt;\n    \n    &lt;meta http-equiv=&quot;content-type&quot; content=&quot;text/html; charset=UTF-8&quot; /&gt;\n    \n        &lt;script&gt;\n            L_NO_TOUCH = false;\n            L_DISABLE_3D = false;\n        &lt;/script&gt;\n    \n    &lt;style&gt;html, body {width: 100%;height: 100%;margin: 0;padding: 0;}&lt;/style&gt;\n    &lt;style&gt;#map {position:absolute;top:0;bottom:0;right:0;left:0;}&lt;/style&gt;\n    &lt;script src=&quot;https://cdn.jsdelivr.net/npm/leaflet@1.9.3/dist/leaflet.js&quot;&gt;&lt;/script&gt;\n    &lt;script src=&quot;https://code.jquery.com/jquery-3.7.1.min.js&quot;&gt;&lt;/script&gt;\n    &lt;script src=&quot;https://cdn.jsdelivr.net/npm/bootstrap@5.2.2/dist/js/bootstrap.bundle.min.js&quot;&gt;&lt;/script&gt;\n    &lt;script src=&quot;https://cdnjs.cloudflare.com/ajax/libs/Leaflet.awesome-markers/2.0.2/leaflet.awesome-markers.js&quot;&gt;&lt;/script&gt;\n    &lt;link rel=&quot;stylesheet&quot; href=&quot;https://cdn.jsdelivr.net/npm/leaflet@1.9.3/dist/leaflet.css&quot;/&gt;\n    &lt;link rel=&quot;stylesheet&quot; href=&quot;https://cdn.jsdelivr.net/npm/bootstrap@5.2.2/dist/css/bootstrap.min.css&quot;/&gt;\n    &lt;link rel=&quot;stylesheet&quot; href=&quot;https://netdna.bootstrapcdn.com/bootstrap/3.0.0/css/bootstrap-glyphicons.css&quot;/&gt;\n    &lt;link rel=&quot;stylesheet&quot; href=&quot;https://cdn.jsdelivr.net/npm/@fortawesome/fontawesome-free@6.2.0/css/all.min.css&quot;/&gt;\n    &lt;link rel=&quot;stylesheet&quot; href=&quot;https://cdnjs.cloudflare.com/ajax/libs/Leaflet.awesome-markers/2.0.2/leaflet.awesome-markers.css&quot;/&gt;\n    &lt;link rel=&quot;stylesheet&quot; href=&quot;https://cdn.jsdelivr.net/gh/python-visualization/folium/folium/templates/leaflet.awesome.rotate.min.css&quot;/&gt;\n    \n            &lt;meta name=&quot;viewport&quot; content=&quot;width=device-width,\n                initial-scale=1.0, maximum-scale=1.0, user-scalable=no&quot; /&gt;\n            &lt;style&gt;\n                #map_9e6841664dfb1f563a660a7470435570 {\n                    position: relative;\n                    width: 100.0%;\n                    height: 100.0%;\n                    left: 0.0%;\n                    top: 0.0%;\n                }\n                .leaflet-container { font-size: 1rem; }\n            &lt;/style&gt;\n        \n    &lt;script src=&quot;https://cdn.jsdelivr.net/gh/ardhi/Leaflet.MousePosition/src/L.Control.MousePosition.min.js&quot;&gt;&lt;/script&gt;\n    &lt;link rel=&quot;stylesheet&quot; href=&quot;https://cdn.jsdelivr.net/gh/ardhi/Leaflet.MousePosition/src/L.Control.MousePosition.min.css&quot;/&gt;\n&lt;/head&gt;\n&lt;body&gt;\n    \n    \n            &lt;div class=&quot;folium-map&quot; id=&quot;map_9e6841664dfb1f563a660a7470435570&quot; &gt;&lt;/div&gt;\n        \n&lt;/body&gt;\n&lt;script&gt;\n    \n    \n            var map_9e6841664dfb1f563a660a7470435570 = L.map(\n                &quot;map_9e6841664dfb1f563a660a7470435570&quot;,\n                {\n                    center: [29.559684888503615, -95.0830971930759],\n                    crs: L.CRS.EPSG3857,\n                    zoom: 5,\n                    zoomControl: true,\n                    preferCanvas: false,\n                }\n            );\n\n            \n\n        \n    \n            var tile_layer_186d645ed51042e8f830943fcc9c4c27 = L.tileLayer(\n                &quot;https://tile.openstreetmap.org/{z}/{x}/{y}.png&quot;,\n                {&quot;attribution&quot;: &quot;\\u0026copy; \\u003ca href=\\&quot;https://www.openstreetmap.org/copyright\\&quot;\\u003eOpenStreetMap\\u003c/a\\u003e contributors&quot;, &quot;detectRetina&quot;: false, &quot;maxNativeZoom&quot;: 19, &quot;maxZoom&quot;: 19, &quot;minZoom&quot;: 0, &quot;noWrap&quot;: false, &quot;opacity&quot;: 1, &quot;subdomains&quot;: &quot;abc&quot;, &quot;tms&quot;: false}\n            );\n        \n    \n            tile_layer_186d645ed51042e8f830943fcc9c4c27.addTo(map_9e6841664dfb1f563a660a7470435570);\n        \n    \n            tile_layer_186d645ed51042e8f830943fcc9c4c27.addTo(map_9e6841664dfb1f563a660a7470435570);\n        \n    \n            var mouse_position_65b2cd31b64caea36403a89b80494d51 = new L.Control.MousePosition(\n                {&quot;emptyString&quot;: &quot;NaN&quot;, &quot;lngFirst&quot;: false, &quot;numDigits&quot;: 20, &quot;position&quot;: &quot;topright&quot;, &quot;prefix&quot;: &quot;Lat:&quot;, &quot;separator&quot;: &quot; Long: &quot;}\n            );\n            mouse_position_65b2cd31b64caea36403a89b80494d51.options[&quot;latFormatter&quot;] =\n                function(num) {return L.Util.formatNum(num, 5);};;\n            mouse_position_65b2cd31b64caea36403a89b80494d51.options[&quot;lngFormatter&quot;] =\n                function(num) {return L.Util.formatNum(num, 5);};;\n            map_9e6841664dfb1f563a660a7470435570.addControl(mouse_position_65b2cd31b64caea36403a89b80494d51);\n        \n    \n            tile_layer_186d645ed51042e8f830943fcc9c4c27.addTo(map_9e6841664dfb1f563a660a7470435570);\n        \n    \n            var marker_7c6811aa28f430e876dfaba6c3f86e81 = L.marker(\n                [28.5478, -80.33436],\n                {}\n            ).addTo(map_9e6841664dfb1f563a660a7470435570);\n        \n    \n        var popup_8c14b74e537b186d03dcdb4f53bbdd72 = L.popup({&quot;maxWidth&quot;: &quot;100%&quot;});\n\n        \n            \n                var html_69760208cc5c8f214b7e949a3ff216a6 = $(`&lt;div id=&quot;html_69760208cc5c8f214b7e949a3ff216a6&quot; style=&quot;width: 100.0%; height: 100.0%;&quot;&gt;coastline_point&lt;/div&gt;`)[0];\n                popup_8c14b74e537b186d03dcdb4f53bbdd72.setContent(html_69760208cc5c8f214b7e949a3ff216a6);\n            \n        \n\n        marker_7c6811aa28f430e876dfaba6c3f86e81.bindPopup(popup_8c14b74e537b186d03dcdb4f53bbdd72)\n        ;\n\n        \n    \n    \n            var marker_31b2bdaedb6deee040a22b5637e9b44c = L.marker(\n                [28.56367, -80.57163],\n                {}\n            ).addTo(map_9e6841664dfb1f563a660a7470435570);\n        \n    \n        var popup_031e83d90c40975dfa26fbdfb6e28dc1 = L.popup({&quot;maxWidth&quot;: &quot;100%&quot;});\n\n        \n            \n                var html_1f3ef7118f08d6fee8706a49ee2a0eb6 = $(`&lt;div id=&quot;html_1f3ef7118f08d6fee8706a49ee2a0eb6&quot; style=&quot;width: 100.0%; height: 100.0%;&quot;&gt;launchsite_point&lt;/div&gt;`)[0];\n                popup_031e83d90c40975dfa26fbdfb6e28dc1.setContent(html_1f3ef7118f08d6fee8706a49ee2a0eb6);\n            \n        \n\n        marker_31b2bdaedb6deee040a22b5637e9b44c.bindPopup(popup_031e83d90c40975dfa26fbdfb6e28dc1)\n        ;\n\n        \n    \n    \n            var poly_line_25b813767c8d298cabb9f49a38c59cbe = L.polyline(\n                [[28.56367, -80.57163], [28.5478, -80.33436]],\n                {&quot;bubblingMouseEvents&quot;: true, &quot;color&quot;: &quot;blue&quot;, &quot;dashArray&quot;: null, &quot;dashOffset&quot;: null, &quot;fill&quot;: false, &quot;fillColor&quot;: &quot;blue&quot;, &quot;fillOpacity&quot;: 0.2, &quot;fillRule&quot;: &quot;evenodd&quot;, &quot;lineCap&quot;: &quot;round&quot;, &quot;lineJoin&quot;: &quot;round&quot;, &quot;noClip&quot;: false, &quot;opacity&quot;: 1.0, &quot;smoothFactor&quot;: 1.0, &quot;stroke&quot;: true, &quot;weight&quot;: 3}\n            ).addTo(map_9e6841664dfb1f563a660a7470435570);\n        \n    \n            tile_layer_186d645ed51042e8f830943fcc9c4c27.addTo(map_9e6841664dfb1f563a660a7470435570);\n        \n    \n            var marker_f68e9e79803788c639639ba3d92ad6ab = L.marker(\n                [28.6258, -80.6704],\n                {}\n            ).addTo(map_9e6841664dfb1f563a660a7470435570);\n        \n    \n        var popup_6b334021393e1a8f43e864836c5a7459 = L.popup({&quot;maxWidth&quot;: &quot;100%&quot;});\n\n        \n            \n                var html_d57bb98e095c3827c5bffea58d566231 = $(`&lt;div id=&quot;html_d57bb98e095c3827c5bffea58d566231&quot; style=&quot;width: 100.0%; height: 100.0%;&quot;&gt;cloasest_city_point&lt;/div&gt;`)[0];\n                popup_6b334021393e1a8f43e864836c5a7459.setContent(html_d57bb98e095c3827c5bffea58d566231);\n            \n        \n\n        marker_f68e9e79803788c639639ba3d92ad6ab.bindPopup(popup_6b334021393e1a8f43e864836c5a7459)\n        ;\n\n        \n    \n    \n            var marker_b7b0a06191e3ddde65002393800529b1 = L.marker(\n                [28.56367, -80.57163],\n                {}\n            ).addTo(map_9e6841664dfb1f563a660a7470435570);\n        \n    \n        var popup_66d4a80422cf1e61a9fdbbc48e8c5dc8 = L.popup({&quot;maxWidth&quot;: &quot;100%&quot;});\n\n        \n            \n                var html_de8a269400c1e34dbb460e131c68848d = $(`&lt;div id=&quot;html_de8a269400c1e34dbb460e131c68848d&quot; style=&quot;width: 100.0%; height: 100.0%;&quot;&gt;launchsite_point&lt;/div&gt;`)[0];\n                popup_66d4a80422cf1e61a9fdbbc48e8c5dc8.setContent(html_de8a269400c1e34dbb460e131c68848d);\n            \n        \n\n        marker_b7b0a06191e3ddde65002393800529b1.bindPopup(popup_66d4a80422cf1e61a9fdbbc48e8c5dc8)\n        ;\n\n        \n    \n    \n            var marker_fb592678282c6383ed61cb9de5bb435c = L.marker(\n                [28.6258, -80.6704],\n                {}\n            ).addTo(map_9e6841664dfb1f563a660a7470435570);\n        \n    \n        var popup_757b7c592deea7dc1a3efc976c2ddf07 = L.popup({&quot;maxWidth&quot;: &quot;100%&quot;});\n\n        \n            \n                var html_58bd140a13a7aac67efff9ee3554a8cd = $(`&lt;div id=&quot;html_58bd140a13a7aac67efff9ee3554a8cd&quot; style=&quot;width: 100.0%; height: 100.0%;&quot;&gt;cloasest_city_point&lt;/div&gt;`)[0];\n                popup_757b7c592deea7dc1a3efc976c2ddf07.setContent(html_58bd140a13a7aac67efff9ee3554a8cd);\n            \n        \n\n        marker_fb592678282c6383ed61cb9de5bb435c.bindPopup(popup_757b7c592deea7dc1a3efc976c2ddf07)\n        ;\n\n        \n    \n    \n            var marker_ddfa51ecdda19757d4119f2871f26084 = L.marker(\n                [28.56367, -80.57163],\n                {}\n            ).addTo(map_9e6841664dfb1f563a660a7470435570);\n        \n    \n        var popup_fe5d6c39b76cf7f34ad6f12c07953cc4 = L.popup({&quot;maxWidth&quot;: &quot;100%&quot;});\n\n        \n            \n                var html_bffafc334c80545b500080e5eb26c8c8 = $(`&lt;div id=&quot;html_bffafc334c80545b500080e5eb26c8c8&quot; style=&quot;width: 100.0%; height: 100.0%;&quot;&gt;launchsite_point&lt;/div&gt;`)[0];\n                popup_fe5d6c39b76cf7f34ad6f12c07953cc4.setContent(html_bffafc334c80545b500080e5eb26c8c8);\n            \n        \n\n        marker_ddfa51ecdda19757d4119f2871f26084.bindPopup(popup_fe5d6c39b76cf7f34ad6f12c07953cc4)\n        ;\n\n        \n    \n    \n            var poly_line_97cc8a6cbb13161592e916ef7d2c0885 = L.polyline(\n                [[28.56367, -80.57163], [28.6258, -80.6704]],\n                {&quot;bubblingMouseEvents&quot;: true, &quot;color&quot;: &quot;blue&quot;, &quot;dashArray&quot;: null, &quot;dashOffset&quot;: null, &quot;fill&quot;: false, &quot;fillColor&quot;: &quot;blue&quot;, &quot;fillOpacity&quot;: 0.2, &quot;fillRule&quot;: &quot;evenodd&quot;, &quot;lineCap&quot;: &quot;round&quot;, &quot;lineJoin&quot;: &quot;round&quot;, &quot;noClip&quot;: false, &quot;opacity&quot;: 1.0, &quot;smoothFactor&quot;: 1.0, &quot;stroke&quot;: true, &quot;weight&quot;: 3}\n            ).addTo(map_9e6841664dfb1f563a660a7470435570);\n        \n    \n            tile_layer_186d645ed51042e8f830943fcc9c4c27.addTo(map_9e6841664dfb1f563a660a7470435570);\n        \n    \n            var marker_dd4490dd0cca3531648b8291acbb20a7 = L.marker(\n                [28.6258, -80.6704],\n                {}\n            ).addTo(map_9e6841664dfb1f563a660a7470435570);\n        \n    \n        var popup_2bc3b5f93a5586a30e990ca1d09144ad = L.popup({&quot;maxWidth&quot;: &quot;100%&quot;});\n\n        \n            \n                var html_77f0f29d845e94c82a074d1e808437bc = $(`&lt;div id=&quot;html_77f0f29d845e94c82a074d1e808437bc&quot; style=&quot;width: 100.0%; height: 100.0%;&quot;&gt;cloasest_railline_point&lt;/div&gt;`)[0];\n                popup_2bc3b5f93a5586a30e990ca1d09144ad.setContent(html_77f0f29d845e94c82a074d1e808437bc);\n            \n        \n\n        marker_dd4490dd0cca3531648b8291acbb20a7.bindPopup(popup_2bc3b5f93a5586a30e990ca1d09144ad)\n        ;\n\n        \n    \n    \n            var marker_b017ac3d72472f530f44984c26d89899 = L.marker(\n                [28.56367, -80.57163],\n                {}\n            ).addTo(map_9e6841664dfb1f563a660a7470435570);\n        \n    \n        var popup_07c16d4c0f39fee483553160e7fe8440 = L.popup({&quot;maxWidth&quot;: &quot;100%&quot;});\n\n        \n            \n                var html_733472403fa0101794f8eb08dfc1b264 = $(`&lt;div id=&quot;html_733472403fa0101794f8eb08dfc1b264&quot; style=&quot;width: 100.0%; height: 100.0%;&quot;&gt;launchsite_point&lt;/div&gt;`)[0];\n                popup_07c16d4c0f39fee483553160e7fe8440.setContent(html_733472403fa0101794f8eb08dfc1b264);\n            \n        \n\n        marker_b017ac3d72472f530f44984c26d89899.bindPopup(popup_07c16d4c0f39fee483553160e7fe8440)\n        ;\n\n        \n    \n    \n            var poly_line_f6528029cdcd6fda987203bdc03ceb21 = L.polyline(\n                [[28.56367, -80.57163], [28.6258, -80.6704]],\n                {&quot;bubblingMouseEvents&quot;: true, &quot;color&quot;: &quot;blue&quot;, &quot;dashArray&quot;: null, &quot;dashOffset&quot;: null, &quot;fill&quot;: false, &quot;fillColor&quot;: &quot;blue&quot;, &quot;fillOpacity&quot;: 0.2, &quot;fillRule&quot;: &quot;evenodd&quot;, &quot;lineCap&quot;: &quot;round&quot;, &quot;lineJoin&quot;: &quot;round&quot;, &quot;noClip&quot;: false, &quot;opacity&quot;: 1.0, &quot;smoothFactor&quot;: 1.0, &quot;stroke&quot;: true, &quot;weight&quot;: 3}\n            ).addTo(map_9e6841664dfb1f563a660a7470435570);\n        \n    \n            tile_layer_186d645ed51042e8f830943fcc9c4c27.addTo(map_9e6841664dfb1f563a660a7470435570);\n        \n    \n            var marker_ac4995bcb1d37b8ab07f5cf027eb740b = L.marker(\n                [28.57245, -80.58539],\n                {}\n            ).addTo(map_9e6841664dfb1f563a660a7470435570);\n        \n    \n        var popup_8246fcf7819b4695e57abdff229ffda4 = L.popup({&quot;maxWidth&quot;: &quot;100%&quot;});\n\n        \n            \n                var html_c8923b702b338a0b78f5d8914c6ed169 = $(`&lt;div id=&quot;html_c8923b702b338a0b78f5d8914c6ed169&quot; style=&quot;width: 100.0%; height: 100.0%;&quot;&gt;cloasest_railline_point&lt;/div&gt;`)[0];\n                popup_8246fcf7819b4695e57abdff229ffda4.setContent(html_c8923b702b338a0b78f5d8914c6ed169);\n            \n        \n\n        marker_ac4995bcb1d37b8ab07f5cf027eb740b.bindPopup(popup_8246fcf7819b4695e57abdff229ffda4)\n        ;\n\n        \n    \n    \n            var marker_65186f79da15d43acc77768bc3c280ad = L.marker(\n                [28.56367, -80.57163],\n                {}\n            ).addTo(map_9e6841664dfb1f563a660a7470435570);\n        \n    \n        var popup_4b99165847de1beaa5ec2f5cbccc8622 = L.popup({&quot;maxWidth&quot;: &quot;100%&quot;});\n\n        \n            \n                var html_ac5a8546007d2e987c9b50e12bf3b28e = $(`&lt;div id=&quot;html_ac5a8546007d2e987c9b50e12bf3b28e&quot; style=&quot;width: 100.0%; height: 100.0%;&quot;&gt;launchsite_point&lt;/div&gt;`)[0];\n                popup_4b99165847de1beaa5ec2f5cbccc8622.setContent(html_ac5a8546007d2e987c9b50e12bf3b28e);\n            \n        \n\n        marker_65186f79da15d43acc77768bc3c280ad.bindPopup(popup_4b99165847de1beaa5ec2f5cbccc8622)\n        ;\n\n        \n    \n    \n            var poly_line_289db7f979f1f8710ff9affca9df62af = L.polyline(\n                [[28.56367, -80.57163], [28.57245, -80.58539]],\n                {&quot;bubblingMouseEvents&quot;: true, &quot;color&quot;: &quot;blue&quot;, &quot;dashArray&quot;: null, &quot;dashOffset&quot;: null, &quot;fill&quot;: false, &quot;fillColor&quot;: &quot;blue&quot;, &quot;fillOpacity&quot;: 0.2, &quot;fillRule&quot;: &quot;evenodd&quot;, &quot;lineCap&quot;: &quot;round&quot;, &quot;lineJoin&quot;: &quot;round&quot;, &quot;noClip&quot;: false, &quot;opacity&quot;: 1.0, &quot;smoothFactor&quot;: 1.0, &quot;stroke&quot;: true, &quot;weight&quot;: 3}\n            ).addTo(map_9e6841664dfb1f563a660a7470435570);\n        \n&lt;/script&gt;\n&lt;/html&gt;\" style=\"position:absolute;width:100%;height:100%;left:0;top:0;border:none !important;\" allowfullscreen webkitallowfullscreen mozallowfullscreen></iframe></div></div>"
          },
          "metadata": {}
        }
      ],
      "execution_count": 23
    },
    {
      "cell_type": "code",
      "source": "cloasest_highway_point = {\n    'cloasest_high_lat': 28.,\n    'cloasest_high_lon': -80.,\n}\nlaunchsite_point = {\n     'launch_site_lat': 28.56367,  \n     'launch_site_lon':-80.57163,\n}\nfolium.Marker(\n    location = [cloasest_highway_point['cloasest_high_lat'],cloasest_highway_point['cloasest_high_lon']],\n    popup = 'cloasest_highway_point'\n    ).add_to(site_map)\nfolium.Marker(\n    location = [launchsite_point['launch_site_lat'],launchsite_point['launch_site_lon']],\n    popup = 'launchsite_point'\n    ).add_to(site_map)\nfolium.PolyLine(\n    locations = [(launchsite_point['launch_site_lat'],launchsite_point['launch_site_lon']),(cloasest_highway_point['cloasest_high_lat'],cloasest_highway_point['cloasest_high_lon'])],\n    color='blue'\n    ).add_to(site_map)\nsite_map",
      "metadata": {},
      "outputs": [],
      "execution_count": null
    },
    {
      "cell_type": "markdown",
      "source": "After you plot distance lines to the proximities, you can answer the following questions easily:\n\n*   Are launch sites in close proximity to railways?\n*   Are launch sites in close proximity to highways?\n*   Are launch sites in close proximity to coastline?\n*   Do launch sites keep certain distance away from cities?\n\nAlso please try to explain your findings.\n",
      "metadata": {}
    },
    {
      "cell_type": "markdown",
      "source": "# Next Steps:\n\nNow you have discovered many interesting insights related to the launch sites' location using folium, in a very interactive way. Next, you will need to build a dashboard using Ploty Dash on detailed launch records.\n",
      "metadata": {}
    },
    {
      "cell_type": "markdown",
      "source": "## Authors\n",
      "metadata": {}
    },
    {
      "cell_type": "markdown",
      "source": "[Pratiksha Verma](https://www.linkedin.com/in/pratiksha-verma-6487561b1/?utm_medium=Exinfluencer&utm_source=Exinfluencer&utm_content=000026UJ&utm_term=10006555&utm_id=NA-SkillsNetwork-Channel-SkillsNetworkCoursesIBMDS0321ENSkillsNetwork865-2022-01-01)\n",
      "metadata": {}
    },
    {
      "cell_type": "markdown",
      "source": "## Change Log\n",
      "metadata": {}
    },
    {
      "cell_type": "markdown",
      "source": "| Date (YYYY-MM-DD) | Version | Changed By      | Change Description      |\n| ----------------- | ------- | -------------   | ----------------------- |\n| 2022-11-09        | 1.0     | Pratiksha Verma | Converted initial version to Jupyterlite|\n",
      "metadata": {}
    },
    {
      "cell_type": "markdown",
      "source": "### <h3 align=\"center\"> IBM Corporation 2022. All rights reserved. <h3/>\n",
      "metadata": {}
    }
  ]
}